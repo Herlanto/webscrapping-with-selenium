{
  "cells": [
    {
      "cell_type": "markdown",
      "metadata": {
        "id": "view-in-github",
        "colab_type": "text"
      },
      "source": [
        "<a href=\"https://colab.research.google.com/github/Herlanto/webscrapping-with-selenium/blob/main/Herlanto_Exaudi_Sitompul.ipynb\" target=\"_parent\"><img src=\"https://colab.research.google.com/assets/colab-badge.svg\" alt=\"Open In Colab\"/></a>"
      ]
    },
    {
      "cell_type": "markdown",
      "metadata": {
        "id": "-hV0ly5uPaeu"
      },
      "source": [
        "### Set Up"
      ]
    },
    {
      "cell_type": "code",
      "execution_count": null,
      "metadata": {
        "id": "PE-BCNycPaey"
      },
      "outputs": [],
      "source": [
        "from selenium import webdriver\n",
        "from selenium.webdriver.common.keys import Keys\n",
        "from selenium.webdriver.common.by import By\n",
        "from selenium.webdriver.chrome.options import Options\n",
        "import time"
      ]
    },
    {
      "cell_type": "code",
      "execution_count": null,
      "metadata": {
        "id": "yV2V38d5Paez"
      },
      "outputs": [],
      "source": [
        "web_1 = 'https://www.geekbuying.com/search?keyword=laptop'\n",
        "web_2 = 'http://automationpractice.com/index.php'\n",
        "web_3 = 'https://www.geekbuying.com/'"
      ]
    },
    {
      "cell_type": "code",
      "execution_count": null,
      "metadata": {
        "id": "mrvdZRwBPae0"
      },
      "outputs": [],
      "source": [
        "driver = webdriver.Chrome(r'C:\\KODE\\AskBeard\\04_(optional)webScrape_Selenium\\chromedriver.exe')\n",
        "driver.get(web_1)\n",
        "driver.maximize_window()"
      ]
    },
    {
      "cell_type": "markdown",
      "metadata": {
        "id": "XbnUBhVVPae0"
      },
      "source": [
        "##Locators "
      ]
    },
    {
      "cell_type": "markdown",
      "metadata": {
        "id": "FCwTqrKgPae0"
      },
      "source": [
        "##### Xpath - Locator"
      ]
    },
    {
      "cell_type": "code",
      "execution_count": null,
      "metadata": {
        "id": "SlSQfs_FPae1"
      },
      "outputs": [],
      "source": [
        "harga = driver.find_element_by_xpath('(//li[@class=\"searchResultItem\"]/div/div[3])')"
      ]
    },
    {
      "cell_type": "code",
      "execution_count": null,
      "metadata": {
        "id": "tZpqv4AiPae1",
        "outputId": "dd3c38c5-9bc8-40c7-bca5-f39fd96b4013"
      },
      "outputs": [
        {
          "name": "stdout",
          "output_type": "stream",
          "text": [
            "Rp5383676.56\n"
          ]
        }
      ],
      "source": [
        "print(harga.text)"
      ]
    },
    {
      "cell_type": "code",
      "execution_count": null,
      "metadata": {
        "id": "bFnsYMg8Pae2"
      },
      "outputs": [],
      "source": [
        "hargas = driver.find_elements_by_xpath('(//li[@class=\"searchResultItem\"]/div/div[3])')"
      ]
    },
    {
      "cell_type": "code",
      "execution_count": null,
      "metadata": {
        "id": "qs7YLEriPae3",
        "outputId": "faf96d53-a66e-4b62-9b95-478655d60a8a"
      },
      "outputs": [
        {
          "name": "stdout",
          "output_type": "stream",
          "text": [
            "40\n"
          ]
        }
      ],
      "source": [
        "print(len(hargas))"
      ]
    },
    {
      "cell_type": "code",
      "execution_count": null,
      "metadata": {
        "id": "xcAXoKB1Pae4",
        "outputId": "9404dd45-c7b8-4dca-ad95-94f2de6afb95"
      },
      "outputs": [
        {
          "name": "stdout",
          "output_type": "stream",
          "text": [
            "Rp5383676.56\n",
            "Rp499989.52\n",
            "Rp146951.91\n",
            "Rp17651733.74\n",
            "Rp926576.65\n",
            "Rp735347.94\n",
            "Rp397020.22\n",
            "Rp735347.94\n",
            "Rp441149.92\n",
            "Rp397020.22\n",
            "Rp441149.92\n",
            "Rp21623406.93\n",
            "Rp941286.55\n",
            "Rp441149.92\n",
            "Rp941286.55\n",
            "Rp249921.21\n",
            "Rp17651733.74\n",
            "Rp5442516.16\n",
            "Rp6178011.19\n",
            "Rp5883813.18\n",
            "Rp499989.52\n",
            "Rp367600.42\n",
            "Rp367600.42\n",
            "Rp6030912.19\n",
            "Rp10590981.40\n",
            "Rp10002585.38\n",
            "Rp470569.72\n",
            "Rp16916238.71\n",
            "Rp10738080.41\n",
            "Rp214617.45\n",
            "Rp4412823.11\n",
            "Rp1956269.69\n",
            "Rp164603.79\n",
            "Rp20299515.87\n",
            "Rp14562654.59\n",
            "Rp15151050.62\n",
            "Rp25447981.11\n",
            "Rp18607877.29\n",
            "Rp16033644.66\n",
            "Rp21182109.91\n"
          ]
        }
      ],
      "source": [
        "for i in hargas:\n",
        "    print(i.text)"
      ]
    },
    {
      "cell_type": "code",
      "execution_count": null,
      "metadata": {
        "id": "4Mc-09LBPae4"
      },
      "outputs": [],
      "source": []
    },
    {
      "cell_type": "markdown",
      "metadata": {
        "id": "IdLhIuU8Pae4"
      },
      "source": [
        "##### Class Name - Locator"
      ]
    },
    {
      "cell_type": "code",
      "execution_count": null,
      "metadata": {
        "id": "EAF2tDEePae5"
      },
      "outputs": [],
      "source": [
        "namas = driver.find_elements_by_class_name('name')"
      ]
    },
    {
      "cell_type": "code",
      "execution_count": null,
      "metadata": {
        "id": "qPUD4aGTPae5",
        "outputId": "620f588d-07ce-426e-c3f7-85afc3cf6598"
      },
      "outputs": [
        {
          "name": "stdout",
          "output_type": "stream",
          "text": [
            "40\n"
          ]
        }
      ],
      "source": [
        "print(len(namas))"
      ]
    },
    {
      "cell_type": "code",
      "execution_count": null,
      "metadata": {
        "id": "lASO0lE2Pae5",
        "outputId": "4e21fe9c-ad82-48b3-c796-9e635082b6d2"
      },
      "outputs": [
        {
          "name": "stdout",
          "output_type": "stream",
          "text": [
            "<class 'list'>\n"
          ]
        }
      ],
      "source": [
        "print(type(namas))"
      ]
    },
    {
      "cell_type": "code",
      "execution_count": null,
      "metadata": {
        "id": "2LFqdz56Pae5",
        "outputId": "01f33d34-e6bc-48d2-c7ff-d8deb2fcc86d"
      },
      "outputs": [
        {
          "name": "stdout",
          "output_type": "stream",
          "text": [
            "ALLDOCUBE KNote X Pro Tablet Laptop Intel Gemini Lake N4100 13.3 Inch 1080P FHD Screen Windows 10 8GB RAM 128GB ROM - Grey\n",
            "Logitech G302 Daedalus Prime MOBA Wired Optical Gaming Mouse Lightweight Design 4000 DPI For PC / - Black\n",
            "One Netbook ONEXPLAYER 1S Game Console PC 8.4 Inch Pocket Computer i7-1195G7 16G RAM 1TB SSD IPS Touch Screen Windows 10 US Plug\n",
            "Portable Foldable Laptop Cooling Stand 4 Height Adjustable Non-slip Silicone For 11-17 Inch Notebook Tablet - White\n",
            "Tronsmart Glary Gaming Headset 7.1 Virtual Surround Sound Stereo Sound with Colorful LED Lighting USB Interface Mic for PC\n",
            "Logitech Pebble Wireless Mouse Bluetooth 2.4GHz Mute Dual Modes Portable For PC - Black\n",
            "Xiaomi Wowstick 1F + Electric Screwdriver Bits Toolkit for Reparing Phone Toy Laptop Digital Product - Gray\n",
            "Logitech Pebble Wireless Mouse Bluetooth 2.4GHz Mute Dual Modes Portable For PC - White\n",
            "Logitech G300S Wired Gaming Mouse 9 Programmable Keys 2500DPI Ergonomic Shape For PC / - Black\n",
            "Logitech G502 HERO Proteus Spectrum Wired Adaptive Gaming Mouse 12000DPI USB Computer Mouse For PC / - Black\n",
            "Logitech C270 HD Vid 720P Webcam With MIC Micphone Video Calling for Android TV Box/PC/\n",
            "One Netbook 4 Platinum Laptop 360 Degree YOGA 10.1\" Touch Screen Intel Core i7-1160G7 16GB DDR4 RAM 1TB PCI-E SSD WiFi 6 Windows 10 Fingerprint - Black\n",
            "Xiaomi 23L Sports Leisure Backpack Waterproof 15.6-inch Laptop Bag Outdoor Travel Rucksack - Black\n",
            "Xiaomi Portable Mouse Mi Mouse Bluetooth 4.0 / RF 2.4GHz Wireless Dual Modes Connection for PC - Silver\n",
            "Xiaomi 23L Sports Leisure Backpack Waterproof 15.6-inch Laptop Bag Outdoor Travel Rucksack - Gray\n",
            "Xiaomi Wireless Mouse 2 Mute Portable Ultra-thin 2.4G Wireless 1000DPI For PC -White\n",
            "Cenava PA156G Laptop Intel Celeron J4125 15.6 Inch 1920*1080 Windows 10 8GB RAM 128GB SSD - Silver\n",
            "Cenava PA156G Laptop Intel Celeron J4125 15.6 Inch 1920*1080 Windows 10 8GB RAM 512GB SSD - Silver\n",
            "Cenava PA156G Laptop Intel Celeron J4125 15.6 Inch 1920*1080 Windows 10 8GB RAM 256GB SSD - Silver\n",
            "ASHU H800 1080P HD Webcam Built-In Microphone Auto Color Correction Support CC2000 TARGET ICQ For Desktop - Black\n",
            "Maxmemory X200 64GB SATA3 High Speed SSD 2.5 Inch Solid State Drive Hard Disk For PC - Black\n",
            "HXSJ S90 720P HD Webcam USB Compatible Adjustable Angle Automatic Color Correction Built-in Sound-absorbing Microphone For Desktop TV - Black\n",
            "One Netbook A1 360 Degree 2 in 1 Pocket Laptop Intel M3-8100Y 8GB RAM 512GB PCIe SSD + Original Stylus Pen\n",
            "DERE X156 15.6 Inch Laptop Intel Celeron J4115 1920*1080 FHD 8GB DDR4 512G SSD Windows 10 HDMI Output - Silver\n",
            "HXSJ S3 1080P HD Webcam 5MP Auto Focus Built-in Microphone Adjustable Angle Support Video Conference For Desktop PC / - Black\n",
            "One Netbook A1 360 Degree 2 in 1 Pocket Laptop Intel M3-8100Y 8GB RAM 256GB PCIe SSD + Original Stylus Pen\n",
            "One Netbook ONEXPLAYER 1S Game Console PC 8.4 Inch Pocket Computer i7-1195G7 16G RAM 1TB SSD IPS Touch Screen Windows 10 EU Plug\n",
            "One Netbook OneGx1 Gaming Laptop 7-inch 1920x1200 i5-10210Y 16GB RAM 512GB SSD WiFi 6 Windows 10 4G Version - Blue\n",
            "One Netbook A1 360 Degree 2 in 1 Pocket Laptop Intel M3-8100Y 8GB RAM 512GB PCIe SSD + Original Stylus Pen + Protective Case\n",
            "HXSJ S20 480P HD Webcam 12 Million Pixels Manually Focus Built-in Microphone Adjustable Angle For Desktop Computer - Black\n",
            "AOSIMAN ASM-156UC 15.6 Inch UHD 4K Touch Screen Type-C+Mini HDMI Portable Computer Monitor Gaming Display Screen for Smartphones Digital Cameras Tablets Game Consoles - Black\n",
            "Kingston A400 SSD 960GB SATA 3 2.5 Inch Solid State Drive Phison S11 Support Windows System 500MB/s Read Speed For Desktop - Dark Gray\n",
            "One Netbook OneGx1 Gaming Laptop 7-inch 1920x1200 i5-10210Y 16GB RAM 512GB SSD WiFi 6 Windows 10 WiFi Version - Blue\n",
            "Ajazz AT101P 5-in-1 Type-C To 4 x USB 3.0 + PD Fast Charge HUB Adapter Support OTG For iP / Windows 10 / Google Chrome OS Smartphone Tablet - Black\n",
            "One Netbook OneGx1 Gaming Laptop 7-inch 1920x1200 i5-10210Y 8GB RAM 256GB SSD WiFi 6 Windows 10 4G Version - Blue\n",
            "One Netbook OneGx1 Pro Gaming Laptop 7-inch 1920x1200 Intel i7-1160G7 16GB RAM 512GB SSD WiFi 6 Windows 10 - WiFi Version Black\n",
            "One Netbook OneGx1 Gaming Laptop 7-inch 1920x1200 i5-10210Y 16GB RAM 512GB SSD WiFi 6 Windows 10 5G Version - Blue\n",
            "One Netbook A1 360 Degree 2 in 1 Pocket Laptop Intel M3-8100Y 8GB RAM 256GB PCIe SSD + Original Stylus Pen + Protective Case\n",
            "Ajazz AU101 4-in-1 USB To 4 x USB 3.0 HUB Adapter Support OTG For Windows 10 Google Chrome OS Smartphone Tablet - Black\n",
            "Xiaomi Redmibook 16 Ryzen Edition Laptop AMD Ryzen 5 4500U 16.1 Inch 1920 x 1080 FHD Screen Windows 10 16GB DDR4 512GB SSD Full Size Keyboard - Gray\n"
          ]
        }
      ],
      "source": [
        "for i in namas:\n",
        "    print(i.text)\n"
      ]
    },
    {
      "cell_type": "code",
      "execution_count": null,
      "metadata": {
        "id": "w0lWdIQsPae6"
      },
      "outputs": [],
      "source": []
    },
    {
      "cell_type": "markdown",
      "metadata": {
        "id": "Rwm2sh-_Pae6"
      },
      "source": [
        "##### ID - Locator"
      ]
    },
    {
      "cell_type": "code",
      "execution_count": null,
      "metadata": {
        "id": "mCP0yV7iPae6"
      },
      "outputs": [],
      "source": [
        "driver = webdriver.Chrome(r'C:\\KODE\\AskBeard\\04_(optional)webScrape_Selenium\\chromedriver.exe')\n",
        "driver.get(web_2)\n",
        "time.sleep(1)\n",
        "search = driver.find_element_by_id('search_query_top')\n",
        "search.click()\n",
        "\n",
        "time.sleep(1)\n",
        "search.send_keys('Shoes')"
      ]
    },
    {
      "cell_type": "code",
      "execution_count": null,
      "metadata": {
        "id": "cspHP69CPae7"
      },
      "outputs": [],
      "source": []
    },
    {
      "cell_type": "markdown",
      "metadata": {
        "id": "WkmG-VhwPae7"
      },
      "source": [
        "##### Name - Locator"
      ]
    },
    {
      "cell_type": "code",
      "execution_count": null,
      "metadata": {
        "id": "iiaWxnMgPae7"
      },
      "outputs": [],
      "source": [
        "search_button = driver.find_element_by_name('submit_search')\n",
        "time.sleep(1)\n",
        "search_button.click()"
      ]
    },
    {
      "cell_type": "markdown",
      "metadata": {
        "id": "Vrw3N7vePae7"
      },
      "source": [
        "##### LinkText - Locator"
      ]
    },
    {
      "cell_type": "code",
      "execution_count": null,
      "metadata": {
        "id": "pTFdF8HJPae7"
      },
      "outputs": [],
      "source": [
        "driver = webdriver.Chrome(r'C:\\KODE\\AskBeard\\04_(optional)webScrape_Selenium\\chromedriver.exe')\n",
        "driver.get(web_2)\n",
        "time.sleep(1)\n",
        "driver.maximize_window()"
      ]
    },
    {
      "cell_type": "code",
      "execution_count": null,
      "metadata": {
        "id": "JNj0esJDPae8"
      },
      "outputs": [],
      "source": [
        "contact_us = driver.find_element_by_link_text('Contact us')\n",
        "contact_us.click()"
      ]
    },
    {
      "cell_type": "markdown",
      "metadata": {
        "id": "RXHn7ymuPae8"
      },
      "source": [
        "##### Partial LinkText - Locator"
      ]
    },
    {
      "cell_type": "code",
      "execution_count": null,
      "metadata": {
        "id": "OW846bJBPae8"
      },
      "outputs": [],
      "source": [
        "driver = webdriver.Chrome(r'C:\\KODE\\AskBeard\\04_(optional)webScrape_Selenium\\chromedriver.exe')\n",
        "driver.get(web_2)\n",
        "time.sleep(1)\n",
        "driver.maximize_window()"
      ]
    },
    {
      "cell_type": "code",
      "execution_count": null,
      "metadata": {
        "id": "YKTJGJ8sPae8"
      },
      "outputs": [],
      "source": [
        "contact_us_partial = driver.find_element_by_partial_link_text('Sign')\n",
        "contact_us_partial.click()"
      ]
    },
    {
      "cell_type": "markdown",
      "metadata": {
        "id": "4tzNM1P1Pae8"
      },
      "source": [
        "###Beberapa sintaks pada locators"
      ]
    },
    {
      "cell_type": "code",
      "execution_count": null,
      "metadata": {
        "id": "bMM293DLPae-"
      },
      "outputs": [],
      "source": [
        "harga = driver.find_element_by_xpath('(//li[@class=\"searchResultItem\"]/div/div[3])')\n"
      ]
    },
    {
      "cell_type": "code",
      "execution_count": null,
      "metadata": {
        "id": "2BDllFHdPae-"
      },
      "outputs": [],
      "source": [
        "harga = driver.find_element(By.XPATH, '(//li[@class=\"searchResultItem\"]/div/div[3])')\n"
      ]
    },
    {
      "cell_type": "code",
      "execution_count": null,
      "metadata": {
        "id": "dC56H-F6Pae_",
        "outputId": "47eefad6-b29c-4306-ea8f-bb94cf9431fe"
      },
      "outputs": [
        {
          "name": "stdout",
          "output_type": "stream",
          "text": [
            "Rp5383676.56\n"
          ]
        }
      ],
      "source": [
        "print(harga.text)"
      ]
    },
    {
      "cell_type": "code",
      "execution_count": null,
      "metadata": {
        "id": "XCOnFHxzPae_"
      },
      "outputs": [],
      "source": [
        "harga = driver.find_element(By.ID, 'search_query_top')\n",
        "By."
      ]
    },
    {
      "cell_type": "markdown",
      "metadata": {
        "id": "GD3J0aziPae_"
      },
      "source": [
        "###Menggunakan Selenium"
      ]
    },
    {
      "cell_type": "code",
      "execution_count": null,
      "metadata": {
        "id": "5La1ysNKPae_",
        "outputId": "68788f28-8fd3-43bb-af60-8b9ade73a945"
      },
      "outputs": [
        {
          "name": "stdout",
          "output_type": "stream",
          "text": [
            "Printed Summer Dress\n"
          ]
        }
      ],
      "source": [
        "# buka web\n",
        "driver=webdriver.Chrome(r'C:\\KODE\\AskBeard\\04_(optional)webScrape_Selenium\\chromedriver.exe')\n",
        "driver.get(web_2)\n",
        "time.sleep(1)\n",
        "\n",
        "#cari search bar\n",
        "search = driver.find_element_by_id('search_query_top')\n",
        "search.click()\n",
        "time.sleep(1)\n",
        "\n",
        "# send text pada search bar\n",
        "search.send_keys('Dress')\n",
        "time.sleep(1)\n",
        "\n",
        "# submit search\n",
        "search_button = driver.find_element_by_name('submit_search')\n",
        "search_button.click()\n",
        "time.sleep(2)\n",
        "\n",
        "#ambli nama produk\n",
        "nama = driver.find_element_by_xpath('(//div[@class=\"right-block\"]/h5)')\n",
        "print(nama.text)\n",
        "time.sleep(1)\n",
        "\n",
        "# Kembali\n",
        "driver.back()\n",
        "time.sleep(1)\n",
        "\n",
        "#Close\n",
        "driver.close()"
      ]
    },
    {
      "cell_type": "code",
      "execution_count": null,
      "metadata": {
        "id": "NhxMePhTPafA"
      },
      "outputs": [],
      "source": []
    }
  ],
  "metadata": {
    "kernelspec": {
      "display_name": "Python 3 (ipykernel)",
      "language": "python",
      "name": "python3"
    },
    "language_info": {
      "codemirror_mode": {
        "name": "ipython",
        "version": 3
      },
      "file_extension": ".py",
      "mimetype": "text/x-python",
      "name": "python",
      "nbconvert_exporter": "python",
      "pygments_lexer": "ipython3",
      "version": "3.9.5"
    },
    "colab": {
      "provenance": [],
      "include_colab_link": true
    }
  },
  "nbformat": 4,
  "nbformat_minor": 0
}